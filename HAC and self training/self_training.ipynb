{
 "cells": [
  {
   "cell_type": "code",
   "execution_count": 1,
   "metadata": {},
   "outputs": [],
   "source": [
    "import numpy as np\n",
    "import pandas as pd\n",
    "import matplotlib.pyplot as plt"
   ]
  },
  {
   "cell_type": "code",
   "execution_count": 2,
   "metadata": {},
   "outputs": [],
   "source": [
    "dataset = pd.read_excel('p3_data.xlsx')\n",
    "dataset['gender'] = dataset['gender'].map({'M': 1, 'W': 0})"
   ]
  },
  {
   "cell_type": "code",
   "execution_count": 3,
   "metadata": {},
   "outputs": [],
   "source": [
    "labeled_data = dataset.iloc[0:20,:]\n",
    "unlabeled_data = dataset.iloc[20:, :3]"
   ]
  },
  {
   "cell_type": "code",
   "execution_count": 4,
   "metadata": {},
   "outputs": [],
   "source": [
    "def cartesian_function(testdata, data):\n",
    "    difference = np.sum(np.power(testdata - data, 2), axis=1)\n",
    "    return np.sqrt(difference)"
   ]
  },
  {
   "cell_type": "code",
   "execution_count": 5,
   "metadata": {},
   "outputs": [],
   "source": [
    "def accuracy(actual, predicted):\n",
    "    correct = 0\n",
    "    for i in range(len(actual)):\n",
    "        if actual[i] == predicted[i]:\n",
    "            correct += 1\n",
    "    return correct/float(len(actual)) * 100.0"
   ]
  },
  {
   "cell_type": "code",
   "execution_count": 6,
   "metadata": {},
   "outputs": [],
   "source": [
    "#one datapoint per iteration\n",
    "def predict_unlabelled(train, test, k_n):\n",
    "    for i in range(0, len(test)):\n",
    "        distance = []\n",
    "        dist = cartesian_function(test.iloc[i], train)\n",
    "        for j in range(len(dist)):\n",
    "            distance.append((j, dist[j]))\n",
    "        distance.sort(key = lambda x:x[1])\n",
    "        neighbor_points = []\n",
    "        for k in range(k_n):\n",
    "            neighbor_points.append(distance[k][0])\n",
    "        output = []\n",
    "        for l in range(len(neighbor_points)):\n",
    "            out = train.iloc[l, -1]\n",
    "            output.append(out)\n",
    "        predict = max(set(output), key = output.count)\n",
    "        data = pd.DataFrame({\n",
    "            'height':[test.iloc[i,0]],\n",
    "            'weight':[test.iloc[i,1]],\n",
    "            'age':[test.iloc[i,2]],\n",
    "            'gender':[predict]\n",
    "        },\n",
    "        index = [len(train)])\n",
    "        train = train.append(data)\n",
    "    return train"
   ]
  },
  {
   "cell_type": "code",
   "execution_count": 7,
   "metadata": {},
   "outputs": [
    {
     "name": "stdout",
     "output_type": "stream",
     "text": [
      "Accuracy of data when each test data is fit on train data: 59.166666666666664\n"
     ]
    }
   ],
   "source": [
    "a = predict_unlabelled(labeled_data, unlabeled_data, 3)\n",
    "a['actual'] = dataset['gender']\n",
    "predicted = np.array(a.iloc[:,-2])\n",
    "actual = np.array(a.iloc[:, -1])\n",
    "accurac = accuracy(actual, predicted)\n",
    "print(f'Accuracy of data when each test data is fit on train data: {accurac}')"
   ]
  },
  {
   "cell_type": "code",
   "execution_count": 8,
   "metadata": {},
   "outputs": [],
   "source": [
    "#batch of 5 points each iteration\n",
    "def predict_unlabelled_five(train, test, k_n):\n",
    "    for i in range(0, len(test)):\n",
    "        distance = []\n",
    "        #5 data points\n",
    "        for i in range(0, len(test)-5):\n",
    "            test_data = test.iloc[i:i+5, :]\n",
    "            for x in range(len(test_data)):\n",
    "                dist = cartesian_function(test_data.iloc[x], train)\n",
    "                for j in range(len(dist)):\n",
    "                    distance.append((j, dist[j]))\n",
    "                distance.sort(key = lambda x:x[1])\n",
    "                neighbor_points = []\n",
    "                for k in range(k_n):\n",
    "                    neighbor_points.append(distance[k][0])\n",
    "                output = []\n",
    "                for l in range(len(neighbor_points)):\n",
    "                    out = train.iloc[l, -1]\n",
    "                    output.append(out)\n",
    "                predict = max(set(output), key = output.count)\n",
    "                data = pd.DataFrame({\n",
    "                    'height':[test.iloc[i,0]],\n",
    "                    'weight':[test.iloc[i,1]],\n",
    "                    'age':[test.iloc[i,2]],\n",
    "                    'gender':[predict]\n",
    "                },\n",
    "                index = [len(train)])\n",
    "                train = train.append(data)\n",
    "    return train\n"
   ]
  },
  {
   "cell_type": "code",
   "execution_count": 9,
   "metadata": {},
   "outputs": [
    {
     "name": "stdout",
     "output_type": "stream",
     "text": [
      "accuracy of data when batch of five test data is trained and added to train data : 59.166666666666664\n"
     ]
    }
   ],
   "source": [
    "batch_of_five = predict_unlabelled_five(labeled_data, unlabeled_data, 3)\n",
    "batch_of_five['actual'] = dataset['gender']\n",
    "pred_five = np.array(batch_of_five.iloc[:,-2])\n",
    "actual_five = np.array(batch_of_five.iloc[:, -1])\n",
    "accurac_five = accuracy(actual_five, pred_five)\n",
    "print(f'accuracy of data when batch of five test data is trained and added to train data : {accurac_five}')"
   ]
  },
  {
   "cell_type": "code",
   "execution_count": 10,
   "metadata": {},
   "outputs": [],
   "source": [
    "#all data points at first\n",
    "def predict_unlabelled_all(train, test, k_n):\n",
    "    predict = []\n",
    "    for i in range(len(test)):\n",
    "        distance = []\n",
    "        dist = cartesian_function(test.iloc[i], train)\n",
    "        for j in range(len(dist)):\n",
    "            distance.append((j, dist[j]))\n",
    "        distance.sort(key = lambda x:x[1])\n",
    "        neighbor_points = []\n",
    "        for k in range(k_n):\n",
    "            neighbor_points.append(distance[k][0])\n",
    "        output = []\n",
    "        for l in range(len(neighbor_points)):\n",
    "            out = train.iloc[l,-1]\n",
    "            output.append(out)\n",
    "        pred = max(set(output), key = output.count)\n",
    "        predict.append(pred)\n",
    "    return predict\n",
    "\n"
   ]
  },
  {
   "cell_type": "code",
   "execution_count": 11,
   "metadata": {},
   "outputs": [
    {
     "name": "stdout",
     "output_type": "stream",
     "text": [
      "accuracy of data when all test data is fit on train data is 51.0\n"
     ]
    }
   ],
   "source": [
    "batch_all = predict_unlabelled_all(labeled_data, unlabeled_data, 3)\n",
    "b_a = unlabeled_data\n",
    "test_data = dataset.iloc[20:,:]\n",
    "b_a['a_gender'] = test_data.iloc[:,-1]\n",
    "b_a['predict'] = batch_all\n",
    "pred_all = np.array(b_a.iloc[:,-1])\n",
    "actual_all = np.array(b_a.iloc[:, -2])\n",
    "accurac_all = accuracy(actual_all, pred_all)\n",
    "print(f'accuracy of data when all test data is fit on train data is {accurac_all}')"
   ]
  },
  {
   "cell_type": "code",
   "execution_count": 12,
   "metadata": {},
   "outputs": [],
   "source": [
    "#batch by 10 values\n",
    "def predict_unlabelled_ten(train, test, k_n):\n",
    "    for i in range(0, len(test)):\n",
    "        distance = []\n",
    "        #5 data points\n",
    "        for i in range(0, len(test)-10):\n",
    "            test_data = test.iloc[i:i+10, :]\n",
    "            for x in range(len(test_data)):\n",
    "                dist = cartesian_function(test_data.iloc[x], train)\n",
    "                for j in range(len(dist)):\n",
    "                    distance.append((j, dist[j]))\n",
    "                distance.sort(key = lambda x:x[1])\n",
    "                neighbor_points = []\n",
    "                for k in range(k_n):\n",
    "                    neighbor_points.append(distance[k][0])\n",
    "                output = []\n",
    "                for l in range(len(neighbor_points)):\n",
    "                    out = train.iloc[l, -1]\n",
    "                    output.append(out)\n",
    "                predict = max(set(output), key = output.count)\n",
    "                data = pd.DataFrame({\n",
    "                    'height':[test.iloc[i,0]],\n",
    "                    'weight':[test.iloc[i,1]],\n",
    "                    'age':[test.iloc[i,2]],\n",
    "                    'gender':[predict]\n",
    "                },\n",
    "                index = [len(train)])\n",
    "                train = train.append(data)\n",
    "    return train"
   ]
  },
  {
   "cell_type": "code",
   "execution_count": 13,
   "metadata": {},
   "outputs": [
    {
     "name": "stdout",
     "output_type": "stream",
     "text": [
      "accuracy of data when batch of ten test data is fit on train data : 59.166666666666664\n"
     ]
    }
   ],
   "source": [
    "batch_of_ten = predict_unlabelled_ten(labeled_data, unlabeled_data, 3)\n",
    "batch_of_ten['actual'] = dataset['gender']\n",
    "pred_ten = np.array(batch_of_ten.iloc[:,-2])\n",
    "actual_ten = np.array(batch_of_ten.iloc[:, -1])\n",
    "accurac_ten = accuracy(actual_ten, pred_ten)\n",
    "print(f'accuracy of data when batch of ten test data is fit on train data : {accurac_ten}')"
   ]
  },
  {
   "cell_type": "markdown",
   "metadata": {},
   "source": [
    "The accuracy of the data is high when we pass the test data to the model and predict and add that test data as training data.\n",
    "doing so we are gradually incresing the traindata.\n",
    "\n",
    "Self training method is vulnerabe to outliers.\n",
    "since we take a 'k' neighbors much small with in the dataset, and first 20 training data couls be biased and model starts to predict according to initial selection training data.\n",
    "\n",
    "The result is bad when we pass all the test data at once and slightly better when we pass then batch wise and add the predicted to train.\n",
    "\n",
    "since self training is so vulnerable co-training is another method to overcome this issue."
   ]
  },
  {
   "cell_type": "code",
   "execution_count": null,
   "metadata": {},
   "outputs": [],
   "source": []
  }
 ],
 "metadata": {
  "kernelspec": {
   "display_name": "Python 3",
   "language": "python",
   "name": "python3"
  },
  "language_info": {
   "codemirror_mode": {
    "name": "ipython",
    "version": 3
   },
   "file_extension": ".py",
   "mimetype": "text/x-python",
   "name": "python",
   "nbconvert_exporter": "python",
   "pygments_lexer": "ipython3",
   "version": "3.8.5"
  }
 },
 "nbformat": 4,
 "nbformat_minor": 4
}
