{
 "cells": [
  {
   "cell_type": "code",
   "execution_count": 14,
   "metadata": {},
   "outputs": [],
   "source": [
    "import numpy as np\n",
    "import pandas as pd\n",
    "import matplotlib.pyplot as plt\n",
    "import seaborn as sns\n",
    "import operator\n",
    "sns.set()"
   ]
  },
  {
   "cell_type": "code",
   "execution_count": 15,
   "metadata": {},
   "outputs": [],
   "source": [
    "train_data = pd.read_excel('trainingdata_1b.xlsx')\n",
    "test_data = pd.read_excel('testdata_1c.xlsx')"
   ]
  },
  {
   "cell_type": "code",
   "execution_count": 16,
   "metadata": {},
   "outputs": [],
   "source": [
    "x_train = train_data.iloc[:,0]\n",
    "y_train = train_data.iloc[:,1]"
   ]
  },
  {
   "cell_type": "code",
   "execution_count": 17,
   "metadata": {},
   "outputs": [],
   "source": [
    "x_test = test_data.iloc[:,0]\n",
    "y_test = test_data.iloc[:,1]\n",
    "\n",
    "x = np.zeros((len(x_train), 2))\n",
    "x[:, 0] = 1\n",
    "x[:, 1] = x_train\n"
   ]
  },
  {
   "cell_type": "code",
   "execution_count": 18,
   "metadata": {},
   "outputs": [],
   "source": [
    "y_train = y_train.values\n",
    "x_test = x_test.values\n",
    "y_test = y_test.values"
   ]
  },
  {
   "cell_type": "markdown",
   "metadata": {},
   "source": [
    "### question 2a. Implementing locally weighted linear regression"
   ]
  },
  {
   "cell_type": "code",
   "execution_count": 19,
   "metadata": {},
   "outputs": [],
   "source": [
    "r = 0.22"
   ]
  },
  {
   "cell_type": "code",
   "execution_count": 20,
   "metadata": {},
   "outputs": [],
   "source": [
    "def loss(y, y_pred, weight):\n",
    "    lossess = np.mean((y_pred - y) * weight)\n",
    "    return lossess\n"
   ]
  },
  {
   "cell_type": "code",
   "execution_count": 21,
   "metadata": {},
   "outputs": [],
   "source": [
    "def weight_matrix(x0, x, r):\n",
    "    m = x.shape[0]\n",
    "    weights = np.mat(np.eye((m)))\n",
    "    for i in range(m):\n",
    "        diff = x0 - x[i]\n",
    "        weights[i,i] = np.exp(diff*diff.T/(-2.0*r**2))\n",
    "    return weights"
   ]
  },
  {
   "cell_type": "code",
   "execution_count": 22,
   "metadata": {},
   "outputs": [],
   "source": [
    "def theta(w, x, xi, y):\n",
    "    a = np.dot(x.T, w)\n",
    "    b = np.dot(a, x)\n",
    "    c = np.linalg.inv(b)\n",
    "    d = np.dot(a, y)\n",
    "    theta = np.dot(d,c)\n",
    "    return theta"
   ]
  },
  {
   "cell_type": "code",
   "execution_count": 23,
   "metadata": {},
   "outputs": [],
   "source": [
    "def lwr(x, xi, y, r):\n",
    "    y_pred = np.zeros(len(x))\n",
    "    for i in range(len(x)):\n",
    "        w = weight_matrix(xi[i], xi, r)\n",
    "        t = theta(w, x, xi, y)\n",
    "        y_pred[i] = np.dot(t, x[i])\n",
    "    return y_pred"
   ]
  },
  {
   "cell_type": "markdown",
   "metadata": {},
   "source": [
    "### question 2b. plot"
   ]
  },
  {
   "cell_type": "code",
   "execution_count": 24,
   "metadata": {},
   "outputs": [],
   "source": [
    "y_pred = lwr(x, x_train, y_train, r)"
   ]
  },
  {
   "cell_type": "code",
   "execution_count": 25,
   "metadata": {},
   "outputs": [
    {
     "data": {
      "image/png": "[encoded data removed]",
      "text/plain": [
       "<Figure size 432x288 with 1 Axes>"
      ]
     },
     "metadata": {},
     "output_type": "display_data"
    }
   ],
   "source": [
    "plt.scatter(x_train, y_train)\n",
    "sort_axis = operator.itemgetter(0)\n",
    "sorted_zip = sorted(zip(x_train,y_pred), key=sort_axis)\n",
    "x_train, y_pred = zip(*sorted_zip)\n",
    "plt.plot(x_train, y_pred, color='y')\n",
    "\n",
    "plt.xlabel('x')\n",
    "plt.ylabel('y')\n",
    "plt.show()\n"
   ]
  },
  {
   "cell_type": "markdown",
   "metadata": {},
   "source": [
    "### Question 2c Evaluate the locally weighted linear regression on the Test data"
   ]
  },
  {
   "cell_type": "code",
   "execution_count": 26,
   "metadata": {},
   "outputs": [],
   "source": [
    "test_data = pd.read_excel('testdata_1c.xlsx')\n",
    "x_test = test_data.iloc[:,0]\n",
    "y_test = test_data.iloc[:,1]\n",
    "\n",
    "x_t = np.zeros((len(test_data), 2))\n",
    "x_t[:, 0] = 1\n",
    "x_t[:, 1] = x_test\n",
    "\n",
    "x_test = x_test.values\n",
    "y_test = y_test.values\n"
   ]
  },
  {
   "cell_type": "code",
   "execution_count": 27,
   "metadata": {
    "scrolled": true
   },
   "outputs": [],
   "source": [
    "y_pred_t = lwr(x_t, x_test, y_test, r)\n"
   ]
  },
  {
   "cell_type": "code",
   "execution_count": 28,
   "metadata": {},
   "outputs": [
    {
     "data": {
      "image/png": "[encoded data removed]",
      "text/plain": [
       "<Figure size 432x288 with 1 Axes>"
      ]
     },
     "metadata": {},
     "output_type": "display_data"
    }
   ],
   "source": [
    "plt.scatter(x_test, y_test)\n",
    "sort_axis = operator.itemgetter(0)\n",
    "sorted_zip = sorted(zip(x_test,y_pred_t), key=sort_axis)\n",
    "x_test, y_pred_t = zip(*sorted_zip)\n",
    "plt.plot(x_test, y_pred_t, color='y')\n",
    "\n",
    "plt.xlabel('x')\n",
    "plt.ylabel('y')\n",
    "plt.show()"
   ]
  },
  {
   "cell_type": "markdown",
   "metadata": {},
   "source": [
    "### Question 2d using only first 20 elements"
   ]
  },
  {
   "cell_type": "code",
   "execution_count": 29,
   "metadata": {},
   "outputs": [
    {
     "name": "stdout",
     "output_type": "stream",
     "text": [
      "(20,)\n"
     ]
    }
   ],
   "source": [
    "train_data = pd.read_excel('trainingdata_1b.xlsx')\n",
    "x_train = train_data.iloc[:,0]\n",
    "y_train = train_data.iloc[:,1]\n",
    "x_train_twe = x_train.values[0:20]\n",
    "y_train_twe = y_train.values[0:20]\n",
    "print(x_train_twe.shape)"
   ]
  },
  {
   "cell_type": "code",
   "execution_count": 30,
   "metadata": {},
   "outputs": [
    {
     "name": "stdout",
     "output_type": "stream",
     "text": [
      "(20, 2)\n"
     ]
    }
   ],
   "source": [
    "x = np.zeros((len(x_train_twe), 2))\n",
    "x[:, 0] = 1\n",
    "x[:, 1] = x_train_twe\n",
    "print(x.shape)"
   ]
  },
  {
   "cell_type": "code",
   "execution_count": 31,
   "metadata": {},
   "outputs": [
    {
     "name": "stdout",
     "output_type": "stream",
     "text": [
      "\n"
     ]
    }
   ],
   "source": [
    "y_pred_twe = lwr(x, x_train_twe, y_train_twe, r)\n",
    "print()"
   ]
  },
  {
   "cell_type": "code",
   "execution_count": 32,
   "metadata": {},
   "outputs": [
    {
     "data": {
      "image/png": "[encoded data removed]",
      "text/plain": [
       "<Figure size 432x288 with 1 Axes>"
      ]
     },
     "metadata": {},
     "output_type": "display_data"
    }
   ],
   "source": [
    "plt.scatter(x_train_twe, y_train_twe)\n",
    "sort_axis = operator.itemgetter(0)\n",
    "sorted_zip = sorted(zip(x_train_twe,y_pred_twe), key=sort_axis)\n",
    "x_train_twe, y_pred_twe = zip(*sorted_zip)\n",
    "plt.plot(x_train_twe, y_pred_twe, color='y')\n",
    "\n",
    "plt.xlabel('x')\n",
    "plt.ylabel('y')\n",
    "plt.show()"
   ]
  },
  {
   "cell_type": "code",
   "execution_count": 33,
   "metadata": {},
   "outputs": [],
   "source": [
    "test_data = pd.read_excel('testdata_1c.xlsx')\n",
    "x_test = test_data.iloc[:,0]\n",
    "y_test = test_data.iloc[:,1]\n",
    "\n",
    "x_t = np.zeros((len(test_data), 2))\n",
    "x_t[:, 0] = 1\n",
    "x_t[:, 1] = x_test\n",
    "\n",
    "x_test = x_test.values\n",
    "y_test = y_test.values"
   ]
  },
  {
   "cell_type": "code",
   "execution_count": 34,
   "metadata": {},
   "outputs": [
    {
     "name": "stdout",
     "output_type": "stream",
     "text": [
      "\n"
     ]
    }
   ],
   "source": [
    "y_pred_test = lwr(x_t, x_test, y_test, r)\n",
    "print()"
   ]
  },
  {
   "cell_type": "code",
   "execution_count": 35,
   "metadata": {},
   "outputs": [
    {
     "data": {
      "image/png": "[encoded data removed]",
      "text/plain": [
       "<Figure size 432x288 with 1 Axes>"
      ]
     },
     "metadata": {},
     "output_type": "display_data"
    }
   ],
   "source": [
    "plt.scatter(x_test, y_test)\n",
    "sort_axis = operator.itemgetter(0)\n",
    "sorted_zip = sorted(zip(x_test,y_pred_test), key=sort_axis)\n",
    "x_test, y_pred_test = zip(*sorted_zip)\n",
    "plt.plot(x_test, y_pred_test, color='y')\n",
    "\n",
    "plt.xlabel('x')\n",
    "plt.ylabel('y')\n",
    "plt.show()"
   ]
  },
  {
   "cell_type": "markdown",
   "metadata": {},
   "source": [
    "### question 2e. It works same for both the data sets considering we have limited data to come to conclusion"
   ]
  },
  {
   "cell_type": "code",
   "execution_count": null,
   "metadata": {},
   "outputs": [],
   "source": []
  }
 ],
 "metadata": {
  "kernelspec": {
   "display_name": "Python 3",
   "language": "python",
   "name": "python3"
  },
  "language_info": {
   "codemirror_mode": {
    "name": "ipython",
    "version": 3
   },
   "file_extension": ".py",
   "mimetype": "text/x-python",
   "name": "python",
   "nbconvert_exporter": "python",
   "pygments_lexer": "ipython3",
   "version": "3.8.5"
  }
 },
 "nbformat": 4,
 "nbformat_minor": 4
}
