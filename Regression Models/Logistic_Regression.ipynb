{
 "cells": [
  {
   "cell_type": "code",
   "execution_count": 2,
   "metadata": {},
   "outputs": [],
   "source": [
    "import numpy as np\n",
    "import pandas as pd\n",
    "import math\n",
    "import matplotlib.pyplot as plt\n",
    "import seaborn as sns\n",
    "from mpl_toolkits import mplot3d\n",
    "sns.set()\n",
    "import warnings\n",
    "warnings.filterwarnings(\"ignore\")"
   ]
  },
  {
   "cell_type": "code",
   "execution_count": 3,
   "metadata": {},
   "outputs": [],
   "source": [
    "data = pd.read_excel('trainingdata_3.xlsx')\n",
    "test = pd.read_excel('testdata_3.xlsx')"
   ]
  },
  {
   "cell_type": "code",
   "execution_count": 4,
   "metadata": {},
   "outputs": [],
   "source": [
    "x_train = data.iloc[:,0:3]\n",
    "y_train = data.iloc[:,3]\n",
    "x_data = x_train\n",
    "y_data = y_train\n",
    "x_train = x_train.values"
   ]
  },
  {
   "cell_type": "code",
   "execution_count": 1050,
   "metadata": {},
   "outputs": [],
   "source": [
    "for i in range(len(y_train)):\n",
    "    if y_train[i] == 'W':\n",
    "        y_train[i] = 0\n",
    "    elif y_train[i] == 'M':\n",
    "        y_train[i] = 1"
   ]
  },
  {
   "cell_type": "code",
   "execution_count": 1052,
   "metadata": {},
   "outputs": [
    {
     "name": "stdout",
     "output_type": "stream",
     "text": [
      "float64\n"
     ]
    }
   ],
   "source": [
    "y_train = y_train.astype(float)\n",
    "print(y_train.dtype)"
   ]
  },
  {
   "cell_type": "markdown",
   "metadata": {},
   "source": [
    "### question 3a. Implementing Logistic Regression"
   ]
  },
  {
   "cell_type": "code",
   "execution_count": 1053,
   "metadata": {},
   "outputs": [],
   "source": [
    "def sigmoid(g):\n",
    "    return 1/(1 + np.exp(-g))    "
   ]
  },
  {
   "cell_type": "code",
   "execution_count": 1054,
   "metadata": {},
   "outputs": [],
   "source": [
    "def loss(y_pred, y):\n",
    "    return(-y * np.log(y_pred) - (1 - y) * np.log(1 - y_pred)).mean()"
   ]
  },
  {
   "cell_type": "code",
   "execution_count": 1055,
   "metadata": {},
   "outputs": [],
   "source": [
    "def predict(theta, x):\n",
    "    return np.dot(x, theta)"
   ]
  },
  {
   "cell_type": "code",
   "execution_count": 1057,
   "metadata": {},
   "outputs": [],
   "source": [
    "def hypothesis(theta, x):\n",
    "    return sigmoid(predict(theta, x))"
   ]
  },
  {
   "cell_type": "code",
   "execution_count": 1058,
   "metadata": {},
   "outputs": [],
   "source": [
    "def fit(x, y, theta, epochs, lr):\n",
    "    error = 0\n",
    "    theta = theta\n",
    "    pred = []\n",
    "    its_y = []\n",
    "    for i in range(epochs):\n",
    "        rand = np.random.randint(0, x.shape[0])\n",
    "        y_pred = hypothesis(theta, x[rand])\n",
    "        if y[rand] == 1:\n",
    "            a = 1\n",
    "        else:\n",
    "            a = 0\n",
    "        if y_pred <= 0.5 and a == 1 or y_pred > 0.5 and a == 0:\n",
    "            error += 1\n",
    "        else:\n",
    "            pred.append(0 if y_pred <= 0.5 else 1)\n",
    "            its_y.append(y[rand])\n",
    "        theta += lr * (a - y_pred) * x[rand]\n",
    "    return theta"
   ]
  },
  {
   "cell_type": "code",
   "execution_count": 1059,
   "metadata": {},
   "outputs": [],
   "source": [
    "#inistaializing theta\n",
    "theta = np.random.uniform(low=-0.1, high=0.1, size=(x_train.shape[1]))\n",
    "theta_ = fit(x_train, y_train, theta, 1000, 0.0001)\n"
   ]
  },
  {
   "cell_type": "markdown",
   "metadata": {},
   "source": [
    "### Question 3b."
   ]
  },
  {
   "cell_type": "code",
   "execution_count": 1060,
   "metadata": {},
   "outputs": [],
   "source": [
    "test_data = test.values"
   ]
  },
  {
   "cell_type": "code",
   "execution_count": 1061,
   "metadata": {},
   "outputs": [
    {
     "name": "stdout",
     "output_type": "stream",
     "text": [
      "[0.45434624 0.4572272  0.45894161 0.45995907]\n",
      "Its a W\n",
      "Its a W\n",
      "Its a W\n",
      "Its a W\n"
     ]
    }
   ],
   "source": [
    "test_pred = hypothesis(theta, test_data)\n",
    "print(test_pred)\n",
    "for i in range(len(test_pred)):\n",
    "    if test_pred[i] > 0.5:\n",
    "        print('Its a M')\n",
    "    else:\n",
    "        print('Its a W')"
   ]
  },
  {
   "cell_type": "markdown",
   "metadata": {},
   "source": [
    "### question 3c."
   ]
  },
  {
   "cell_type": "code",
   "execution_count": 1062,
   "metadata": {},
   "outputs": [],
   "source": [
    "theta = np.random.uniform(low=-0.1, high=0.1, size=(x_train.shape[1]))\n",
    "theta_ = fit(x_train, y_train, theta, 1000, 0.0001)"
   ]
  },
  {
   "cell_type": "code",
   "execution_count": 5,
   "metadata": {},
   "outputs": [],
   "source": [
    "data = pd.read_excel('trainingdata_3.xlsx')\n",
    "x_train = data.iloc[:,0:3]\n",
    "y_train = data.iloc[:,3]"
   ]
  },
  {
   "cell_type": "code",
   "execution_count": 1066,
   "metadata": {},
   "outputs": [],
   "source": [
    "def loo(x, y):\n",
    "    pred = 0\n",
    "    for i, test in data.iterrows():\n",
    "        x_train = data.drop(i)\n",
    "        x_train = x_train.values\n",
    "        x_train = x_train[:,0:3]\n",
    "        end = data.values[3]\n",
    "        predict_ = predict(theta_,x_train)\n",
    "        if predict_ == end:\n",
    "            pred += 1\n",
    "    return pred\n",
    "            "
   ]
  },
  {
   "cell_type": "code",
   "execution_count": 1067,
   "metadata": {},
   "outputs": [],
   "source": [
    "pred = loo(x_train, y_train)\n",
    "print(f\"{pred}/{x_train.shape[0]} correct predictions \")   "
   ]
  },
  {
   "cell_type": "markdown",
   "metadata": {},
   "source": [
    "### Question 3d."
   ]
  },
  {
   "cell_type": "code",
   "execution_count": null,
   "metadata": {},
   "outputs": [],
   "source": [
    "drop_age = data.drop(['age'], axis = 1)"
   ]
  },
  {
   "cell_type": "code",
   "execution_count": null,
   "metadata": {},
   "outputs": [],
   "source": [
    "x_train_drop_age = drop_age.iloc[:,0:2]\n",
    "y_train_drop_age = drop_age.iloc[:,2]\n",
    "print(x_train_drop_age.shape)\n",
    "print(y_train_drop_age.shape)\n",
    "x_train_drop_age = x_train_drop_age.values\n",
    "y_train_drop_age = y_train_drop_age.values\n"
   ]
  },
  {
   "cell_type": "code",
   "execution_count": null,
   "metadata": {},
   "outputs": [],
   "source": [
    "theta = np.random.uniform(low=-0.1, high=0.1, size=(x_train_drop_age.shape[1]))"
   ]
  },
  {
   "cell_type": "code",
   "execution_count": null,
   "metadata": {},
   "outputs": [],
   "source": [
    "theta_ = fit(x_train_drop_age, y_train_drop_age, theta, 1000, 0.0001)"
   ]
  },
  {
   "cell_type": "code",
   "execution_count": null,
   "metadata": {},
   "outputs": [],
   "source": [
    "test_drop_age = test.drop(['age'], axis = 1)\n",
    "test_data = test.iloc[:,0:2]\n",
    "test_data = test_data.values"
   ]
  },
  {
   "cell_type": "code",
   "execution_count": null,
   "metadata": {},
   "outputs": [],
   "source": [
    "test_pred = hypothesis(theta, test_data)"
   ]
  },
  {
   "cell_type": "code",
   "execution_count": null,
   "metadata": {},
   "outputs": [],
   "source": [
    "for i in range(len(test_pred)):\n",
    "    if test_pred[i] > 0.5:\n",
    "        print('Its a M')\n",
    "    else:\n",
    "        print('Its a W')"
   ]
  }
 ],
 "metadata": {
  "kernelspec": {
   "display_name": "Python 3",
   "language": "python",
   "name": "python3"
  },
  "language_info": {
   "codemirror_mode": {
    "name": "ipython",
    "version": 3
   },
   "file_extension": ".py",
   "mimetype": "text/x-python",
   "name": "python",
   "nbconvert_exporter": "python",
   "pygments_lexer": "ipython3",
   "version": "3.8.5"
  }
 },
 "nbformat": 4,
 "nbformat_minor": 4
}
