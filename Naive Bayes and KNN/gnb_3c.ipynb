{
 "cells": [
  {
   "cell_type": "code",
   "execution_count": 19,
   "metadata": {},
   "outputs": [],
   "source": [
    "import numpy as np\n",
    "import pandas as pd\n",
    "import math "
   ]
  },
  {
   "cell_type": "code",
   "execution_count": 20,
   "metadata": {},
   "outputs": [],
   "source": [
    "data = pd.read_excel('dataset.xlsx')"
   ]
  },
  {
   "cell_type": "code",
   "execution_count": 21,
   "metadata": {},
   "outputs": [],
   "source": [
    "def gaussian_(x, mean, std):\n",
    "    return 1 / (math.sqrt(std ** math.pi)) * np.exp(-std * np.power((x - mean), 2))\n",
    "    "
   ]
  },
  {
   "cell_type": "code",
   "execution_count": 22,
   "metadata": {},
   "outputs": [],
   "source": [
    "def mean_(x, feature, data):\n",
    "    m_mean = np.mean(data.loc[data['gender']=='M'][feature].values)\n",
    "    m_std = np.std(data.loc[data['gender']=='M'][feature].values)\n",
    "    men = gaussian_(x, m_mean, m_std)\n",
    "    w_mean = np.mean(data.loc[data['gender']=='W'][feature].values)\n",
    "    w_std = np.std(data.loc[data['gender']=='W'][feature].values)\n",
    "    women = gaussian_(x, w_mean, w_std)\n",
    "    return men, women\n",
    "    "
   ]
  },
  {
   "cell_type": "code",
   "execution_count": 23,
   "metadata": {},
   "outputs": [],
   "source": [
    "def nbc_(x, data):\n",
    "    men_h, women_h = mean_(x[0], 'height', data)\n",
    "    men_w, women_w = mean_(x[1], 'weight', data)\n",
    "    n_men, n_women = np.count_nonzero(data['gender'] == 'M'), np.count_nonzero(data['gender'] == 'W')\n",
    "    total = n_men + n_women\n",
    "    men_pri, women_pri = n_men/total, n_women/total\n",
    "    \n",
    "    m_age, w_age = mean_(x[2], 'age', data)\n",
    "    p_man = men_h * men_w * m_age * men_pri\n",
    "    p_woman = women_h * women_w * w_age * women_pri\n",
    "    if p_man > p_woman:\n",
    "        return 'M'\n",
    "    else:\n",
    "        return 'W'"
   ]
  },
  {
   "cell_type": "code",
   "execution_count": 24,
   "metadata": {},
   "outputs": [],
   "source": [
    "def main():\n",
    "    predictions = 0\n",
    "    for i, test_sample in data.iterrows():\n",
    "        sample = test_sample.values[:3]\n",
    "        end_ = test_sample.values[3]\n",
    "        predict = nbc_(sample, data.drop(i))\n",
    "        if predict == end_:\n",
    "            predictions += 1\n",
    "    print(f\"GNB Performance\")\n",
    "    print(f\"{predictions}/{data.shape[0]} correct predictions using all features\")\n",
    "    print()\n",
    "   "
   ]
  },
  {
   "cell_type": "code",
   "execution_count": 25,
   "metadata": {},
   "outputs": [
    {
     "name": "stdout",
     "output_type": "stream",
     "text": [
      "GNB Performance\n",
      "77/120 correct predictions using all features\n",
      "\n"
     ]
    }
   ],
   "source": [
    "main()"
   ]
  },
  {
   "cell_type": "code",
   "execution_count": 26,
   "metadata": {},
   "outputs": [],
   "source": [
    "data1 = pd.read_excel('dataset.xlsx')\n"
   ]
  },
  {
   "cell_type": "code",
   "execution_count": 27,
   "metadata": {},
   "outputs": [],
   "source": [
    "dataset = data1.drop(['gender','age'], axis = 1).values"
   ]
  },
  {
   "cell_type": "code",
   "execution_count": 28,
   "metadata": {},
   "outputs": [],
   "source": [
    "def nbc_no_age(x, data):\n",
    "    men_h, women_h = mean_(x[0], 'height', data)\n",
    "    men_w, women_w = mean_(x[1], 'weight', data)\n",
    "    n_men, n_women = np.count_nonzero(data['gender'] == 'M'), np.count_nonzero(data['gender'] == 'W')\n",
    "    total = n_men + n_women\n",
    "    men_pri, women_pri = n_men/total, n_women/total\n",
    "    p_man = men_h * men_w  * men_pri\n",
    "    p_woman = women_h * women_w  * women_pri\n",
    "    if p_man > p_woman:\n",
    "        return 'M'\n",
    "    else:\n",
    "        return 'W'"
   ]
  },
  {
   "cell_type": "code",
   "execution_count": 29,
   "metadata": {},
   "outputs": [],
   "source": [
    "def main_no_age():\n",
    "    predictions = 0\n",
    "    for i, test_sample in data.iterrows():\n",
    "        sample = test_sample.values[:3]\n",
    "        end_ = test_sample.values[3]\n",
    "        predict = nbc_no_age(sample, data.drop(i))\n",
    "        if predict == end_:\n",
    "            predictions += 1\n",
    "    print(f\"GNB Performance\")\n",
    "    print(f\"{predictions}/{data.shape[0]} correct predictions using all features\")\n",
    "    print()"
   ]
  },
  {
   "cell_type": "code",
   "execution_count": 30,
   "metadata": {},
   "outputs": [
    {
     "name": "stdout",
     "output_type": "stream",
     "text": [
      "GNB Performance\n",
      "78/120 correct predictions using all features\n",
      "\n"
     ]
    }
   ],
   "source": [
    "main_no_age()"
   ]
  },
  {
   "cell_type": "markdown",
   "metadata": {},
   "source": [
    "The performance of the GNB increases slightly if the age is removed."
   ]
  },
  {
   "cell_type": "code",
   "execution_count": null,
   "metadata": {},
   "outputs": [],
   "source": []
  }
 ],
 "metadata": {
  "kernelspec": {
   "display_name": "Python 3",
   "language": "python",
   "name": "python3"
  },
  "language_info": {
   "codemirror_mode": {
    "name": "ipython",
    "version": 3
   },
   "file_extension": ".py",
   "mimetype": "text/x-python",
   "name": "python",
   "nbconvert_exporter": "python",
   "pygments_lexer": "ipython3",
   "version": "3.8.5"
  }
 },
 "nbformat": 4,
 "nbformat_minor": 4
}
