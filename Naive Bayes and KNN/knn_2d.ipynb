{
 "cells": [
  {
   "cell_type": "code",
   "execution_count": 22,
   "metadata": {},
   "outputs": [],
   "source": [
    "import numpy as np\n",
    "import pandas as pd\n",
    "import math"
   ]
  },
  {
   "cell_type": "code",
   "execution_count": 23,
   "metadata": {},
   "outputs": [],
   "source": [
    "data = pd.read_excel('dataset.xlsx')\n",
    "\n",
    "k_values = 1, 3, 5"
   ]
  },
  {
   "cell_type": "code",
   "execution_count": 24,
   "metadata": {},
   "outputs": [],
   "source": [
    "def cartesian_function(testdata, datas):\n",
    "    difference = np.sum(np.power(testdata - datas, 2), axis=1)\n",
    "    return np.power(difference, 0.5)"
   ]
  },
  {
   "cell_type": "code",
   "execution_count": 25,
   "metadata": {},
   "outputs": [],
   "source": [
    "def classify_(k, label):\n",
    "    nearest = label[:k]\n",
    "    men = np.count_nonzero(nearest == 'M')\n",
    "    women = np.count_nonzero(nearest == 'W')\n",
    "    if men > women:\n",
    "        return 'M'\n",
    "    else:\n",
    "        return 'W'"
   ]
  },
  {
   "cell_type": "code",
   "execution_count": 26,
   "metadata": {},
   "outputs": [],
   "source": [
    "def knn_(test_sample, k, data):\n",
    "    dataset = data.drop(['gender','age'], axis = 1).values\n",
    "    labels = data['gender'].values\n",
    "    dist_ = cartesian_function(test_sample, dataset)\n",
    "    labeled_dist = np.vstack((dist_, labels))\n",
    "    sort_dist = labeled_dist.T[labeled_dist.T[:, 0].argsort()]\n",
    "    sort_labels = sort_dist.T[1]\n",
    "    return classify_(k,sort_labels)"
   ]
  },
  {
   "cell_type": "code",
   "execution_count": 27,
   "metadata": {},
   "outputs": [],
   "source": [
    "def main():\n",
    "    for k in k_values:\n",
    "        predictions = 0\n",
    "        for i, test_sample in data.iterrows():\n",
    "            sample = test_sample.values[:3]\n",
    "            end_ = test_sample.values[3]\n",
    "            predict = knn_(sample[:2], k, data.drop(i))\n",
    "            if predict == end_:\n",
    "                predictions += 1\n",
    "        print(f\"KNN Performance using k:{k}\")\n",
    "        print(f\"{predictions}/{data.shape[0]} without age\")\n",
    "        print(f'performance : ', (predictions/data.shape[0]) * 100)\n",
    "        print()"
   ]
  },
  {
   "cell_type": "code",
   "execution_count": 28,
   "metadata": {},
   "outputs": [
    {
     "name": "stdout",
     "output_type": "stream",
     "text": [
      "KNN Performance using k:1\n",
      "78/120 without age\n",
      "performance :  65.0\n",
      "\n",
      "KNN Performance using k:3\n",
      "81/120 without age\n",
      "performance :  67.5\n",
      "\n",
      "KNN Performance using k:5\n",
      "68/120 without age\n",
      "performance :  56.666666666666664\n",
      "\n"
     ]
    }
   ],
   "source": [
    "main()"
   ]
  },
  {
   "cell_type": "markdown",
   "metadata": {},
   "source": [
    "### The performance of is better without considering the age. Age is a misleading feature here. The height could be same for two aged groups but when the age differs the distance between the points increse which leads to incorrect prediction."
   ]
  },
  {
   "cell_type": "code",
   "execution_count": null,
   "metadata": {},
   "outputs": [],
   "source": []
  }
 ],
 "metadata": {
  "kernelspec": {
   "display_name": "Python 3",
   "language": "python",
   "name": "python3"
  },
  "language_info": {
   "codemirror_mode": {
    "name": "ipython",
    "version": 3
   },
   "file_extension": ".py",
   "mimetype": "text/x-python",
   "name": "python",
   "nbconvert_exporter": "python",
   "pygments_lexer": "ipython3",
   "version": "3.8.5"
  }
 },
 "nbformat": 4,
 "nbformat_minor": 4
}
