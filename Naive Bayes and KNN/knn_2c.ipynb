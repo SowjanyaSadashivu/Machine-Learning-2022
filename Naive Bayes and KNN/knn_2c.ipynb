{
 "cells": [
  {
   "cell_type": "code",
   "execution_count": 84,
   "metadata": {},
   "outputs": [],
   "source": [
    "import numpy as np\n",
    "import pandas as pd\n",
    "import math"
   ]
  },
  {
   "cell_type": "code",
   "execution_count": 85,
   "metadata": {},
   "outputs": [],
   "source": [
    "data = pd.read_excel('dataset.xlsx')\n",
    "k_values = 1, 3, 5"
   ]
  },
  {
   "cell_type": "code",
   "execution_count": 86,
   "metadata": {},
   "outputs": [
    {
     "data": {
      "text/html": [
       "<div>\n",
       "<style scoped>\n",
       "    .dataframe tbody tr th:only-of-type {\n",
       "        vertical-align: middle;\n",
       "    }\n",
       "\n",
       "    .dataframe tbody tr th {\n",
       "        vertical-align: top;\n",
       "    }\n",
       "\n",
       "    .dataframe thead th {\n",
       "        text-align: right;\n",
       "    }\n",
       "</style>\n",
       "<table border=\"1\" class=\"dataframe\">\n",
       "  <thead>\n",
       "    <tr style=\"text-align: right;\">\n",
       "      <th></th>\n",
       "      <th>height</th>\n",
       "      <th>weight</th>\n",
       "      <th>age</th>\n",
       "      <th>gender</th>\n",
       "    </tr>\n",
       "  </thead>\n",
       "  <tbody>\n",
       "    <tr>\n",
       "      <th>0</th>\n",
       "      <td>1.867254</td>\n",
       "      <td>87.309720</td>\n",
       "      <td>32</td>\n",
       "      <td>M</td>\n",
       "    </tr>\n",
       "    <tr>\n",
       "      <th>1</th>\n",
       "      <td>1.827601</td>\n",
       "      <td>75.155462</td>\n",
       "      <td>25</td>\n",
       "      <td>M</td>\n",
       "    </tr>\n",
       "    <tr>\n",
       "      <th>2</th>\n",
       "      <td>1.677542</td>\n",
       "      <td>72.775014</td>\n",
       "      <td>33</td>\n",
       "      <td>W</td>\n",
       "    </tr>\n",
       "    <tr>\n",
       "      <th>3</th>\n",
       "      <td>1.943283</td>\n",
       "      <td>95.297710</td>\n",
       "      <td>28</td>\n",
       "      <td>M</td>\n",
       "    </tr>\n",
       "    <tr>\n",
       "      <th>4</th>\n",
       "      <td>1.950712</td>\n",
       "      <td>82.053629</td>\n",
       "      <td>29</td>\n",
       "      <td>M</td>\n",
       "    </tr>\n",
       "    <tr>\n",
       "      <th>...</th>\n",
       "      <td>...</td>\n",
       "      <td>...</td>\n",
       "      <td>...</td>\n",
       "      <td>...</td>\n",
       "    </tr>\n",
       "    <tr>\n",
       "      <th>115</th>\n",
       "      <td>2.000000</td>\n",
       "      <td>81.651678</td>\n",
       "      <td>25</td>\n",
       "      <td>W</td>\n",
       "    </tr>\n",
       "    <tr>\n",
       "      <th>116</th>\n",
       "      <td>1.849854</td>\n",
       "      <td>76.278465</td>\n",
       "      <td>30</td>\n",
       "      <td>W</td>\n",
       "    </tr>\n",
       "    <tr>\n",
       "      <th>117</th>\n",
       "      <td>1.601512</td>\n",
       "      <td>79.025100</td>\n",
       "      <td>27</td>\n",
       "      <td>W</td>\n",
       "    </tr>\n",
       "    <tr>\n",
       "      <th>118</th>\n",
       "      <td>1.677059</td>\n",
       "      <td>76.143849</td>\n",
       "      <td>29</td>\n",
       "      <td>W</td>\n",
       "    </tr>\n",
       "    <tr>\n",
       "      <th>119</th>\n",
       "      <td>1.845541</td>\n",
       "      <td>72.480025</td>\n",
       "      <td>37</td>\n",
       "      <td>W</td>\n",
       "    </tr>\n",
       "  </tbody>\n",
       "</table>\n",
       "<p>120 rows × 4 columns</p>\n",
       "</div>"
      ],
      "text/plain": [
       "       height     weight  age gender\n",
       "0    1.867254  87.309720   32      M\n",
       "1    1.827601  75.155462   25      M\n",
       "2    1.677542  72.775014   33      W\n",
       "3    1.943283  95.297710   28      M\n",
       "4    1.950712  82.053629   29      M\n",
       "..        ...        ...  ...    ...\n",
       "115  2.000000  81.651678   25      W\n",
       "116  1.849854  76.278465   30      W\n",
       "117  1.601512  79.025100   27      W\n",
       "118  1.677059  76.143849   29      W\n",
       "119  1.845541  72.480025   37      W\n",
       "\n",
       "[120 rows x 4 columns]"
      ]
     },
     "execution_count": 86,
     "metadata": {},
     "output_type": "execute_result"
    }
   ],
   "source": [
    "data"
   ]
  },
  {
   "cell_type": "code",
   "execution_count": null,
   "metadata": {},
   "outputs": [],
   "source": []
  },
  {
   "cell_type": "code",
   "execution_count": 87,
   "metadata": {},
   "outputs": [],
   "source": [
    "def cartesian_function(testdata, datas):\n",
    "    difference = np.sum(np.power(testdata - datas, 2), axis=1)\n",
    "    return np.power(difference, 0.5)"
   ]
  },
  {
   "cell_type": "code",
   "execution_count": 88,
   "metadata": {},
   "outputs": [],
   "source": [
    "def classify_(k, label):\n",
    "    nearest = label[:k]\n",
    "    men = np.count_nonzero(nearest == 'M')\n",
    "    women = np.count_nonzero(nearest == 'W')\n",
    "    if men > women:\n",
    "        return 'M'\n",
    "    else:\n",
    "        return 'W'"
   ]
  },
  {
   "cell_type": "code",
   "execution_count": 89,
   "metadata": {},
   "outputs": [],
   "source": [
    "def knn_(test_sample, k, data):\n",
    "    dataset = data.drop(['gender'], axis = 1).values\n",
    "    labels = data['gender'].values\n",
    "    dist_ = cartesian_function(test_sample, dataset)\n",
    "    labeled_dist = np.vstack((dist_, labels))\n",
    "    sort_dist = labeled_dist.T[labeled_dist.T[:, 0].argsort()]\n",
    "    sort_labels = sort_dist.T[1]\n",
    "    return classify_(k,sort_labels)"
   ]
  },
  {
   "cell_type": "code",
   "execution_count": null,
   "metadata": {},
   "outputs": [],
   "source": []
  },
  {
   "cell_type": "code",
   "execution_count": 90,
   "metadata": {},
   "outputs": [],
   "source": [
    "def main():\n",
    "    for k in k_values:\n",
    "        predictions = 0\n",
    "        for i, test_sample in data.iterrows():\n",
    "            sample = test_sample.values[:3]\n",
    "            end_ = test_sample.values[3]\n",
    "            predict = knn_(sample, k, data.drop(i))\n",
    "            if predict == end_:\n",
    "                predictions += 1\n",
    "        print(f\"KNN Performance using k:{k}\")\n",
    "        print(f\"{predictions}/{data.shape[0]} correct predictions using all features\")\n",
    "        print()"
   ]
  },
  {
   "cell_type": "code",
   "execution_count": null,
   "metadata": {},
   "outputs": [],
   "source": []
  },
  {
   "cell_type": "code",
   "execution_count": 91,
   "metadata": {},
   "outputs": [
    {
     "name": "stdout",
     "output_type": "stream",
     "text": [
      "KNN Performance using k:1\n",
      "76/120 correct predictions using all features\n",
      "\n",
      "KNN Performance using k:3\n",
      "75/120 correct predictions using all features\n",
      "\n",
      "KNN Performance using k:5\n",
      "74/120 correct predictions using all features\n",
      "\n"
     ]
    }
   ],
   "source": [
    "main()"
   ]
  },
  {
   "cell_type": "code",
   "execution_count": 92,
   "metadata": {},
   "outputs": [
    {
     "name": "stdout",
     "output_type": "stream",
     "text": [
      "K = 1 gives best prediction\n"
     ]
    }
   ],
   "source": [
    "print('K = 1 gives best prediction')"
   ]
  },
  {
   "cell_type": "code",
   "execution_count": null,
   "metadata": {},
   "outputs": [],
   "source": []
  }
 ],
 "metadata": {
  "kernelspec": {
   "display_name": "Python 3",
   "language": "python",
   "name": "python3"
  },
  "language_info": {
   "codemirror_mode": {
    "name": "ipython",
    "version": 3
   },
   "file_extension": ".py",
   "mimetype": "text/x-python",
   "name": "python",
   "nbconvert_exporter": "python",
   "pygments_lexer": "ipython3",
   "version": "3.8.5"
  }
 },
 "nbformat": 4,
 "nbformat_minor": 4
}
