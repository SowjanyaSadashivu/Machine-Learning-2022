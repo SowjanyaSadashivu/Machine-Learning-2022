{
 "cells": [
  {
   "cell_type": "code",
   "execution_count": 1,
   "metadata": {},
   "outputs": [],
   "source": [
    "import numpy as np\n",
    "import pandas as pd\n",
    "import math"
   ]
  },
  {
   "cell_type": "code",
   "execution_count": 2,
   "metadata": {},
   "outputs": [],
   "source": [
    "data = pd.read_excel('data.xlsx')\n",
    "test_data = pd.read_excel('knn_test_data.xlsx')\n",
    "k_values = 1, 3, 5"
   ]
  },
  {
   "cell_type": "code",
   "execution_count": 3,
   "metadata": {},
   "outputs": [],
   "source": [
    "test_datas = test_data.to_numpy()"
   ]
  },
  {
   "cell_type": "code",
   "execution_count": 4,
   "metadata": {},
   "outputs": [],
   "source": [
    "def cartesian_function(testdata, data):\n",
    "    difference = np.sum(np.power(testdata - data, 2), axis=1)\n",
    "    return np.sqrt(difference)"
   ]
  },
  {
   "cell_type": "code",
   "execution_count": 5,
   "metadata": {},
   "outputs": [],
   "source": [
    "dataset = data\n",
    "dataset = dataset.drop(['gender'], axis = 1).values "
   ]
  },
  {
   "cell_type": "code",
   "execution_count": 7,
   "metadata": {},
   "outputs": [],
   "source": [
    "def knn_(test_sample, k, data):\n",
    "    labels = data['gender'].values\n",
    "    dist_ = cartesian_function(test_sample, dataset)\n",
    "    labeled_dist = np.vstack((dist_, labels))\n",
    "    sort_dist = labeled_dist.T[labeled_dist.T[:, 0].argsort()]\n",
    "    sort_labels = sort_dist.T[1]\n",
    "    return classify_(k,sort_labels)"
   ]
  },
  {
   "cell_type": "code",
   "execution_count": 8,
   "metadata": {},
   "outputs": [],
   "source": [
    "def classify_(k, label):\n",
    "    nearest = label[:k]\n",
    "    men = np.count_nonzero(nearest == 'M')\n",
    "    women = np.count_nonzero(nearest == 'W')\n",
    "    if men > women:\n",
    "        return 'M'\n",
    "    else:\n",
    "        return 'W'\n",
    "    "
   ]
  },
  {
   "cell_type": "code",
   "execution_count": 9,
   "metadata": {},
   "outputs": [],
   "source": [
    "def main():\n",
    "    for test_sample in test_datas:\n",
    "        for k in k_values:\n",
    "            predict_ = knn_(test_sample, k, data)\n",
    "            print(f'The prediction if {predict_} for k: {k} neighbours')\n",
    "        print()\n",
    "    print()\n",
    "    "
   ]
  },
  {
   "cell_type": "code",
   "execution_count": 10,
   "metadata": {},
   "outputs": [
    {
     "name": "stdout",
     "output_type": "stream",
     "text": [
      "The prediction if M for k: 1 neighbours\n",
      "The prediction if M for k: 3 neighbours\n",
      "The prediction if W for k: 5 neighbours\n",
      "\n",
      "The prediction if W for k: 1 neighbours\n",
      "The prediction if W for k: 3 neighbours\n",
      "The prediction if W for k: 5 neighbours\n",
      "\n",
      "The prediction if M for k: 1 neighbours\n",
      "The prediction if M for k: 3 neighbours\n",
      "The prediction if M for k: 5 neighbours\n",
      "\n",
      "The prediction if W for k: 1 neighbours\n",
      "The prediction if W for k: 3 neighbours\n",
      "The prediction if W for k: 5 neighbours\n",
      "\n",
      "\n"
     ]
    }
   ],
   "source": [
    "main()"
   ]
  }
 ],
 "metadata": {
  "kernelspec": {
   "display_name": "Python 3",
   "language": "python",
   "name": "python3"
  },
  "language_info": {
   "codemirror_mode": {
    "name": "ipython",
    "version": 3
   },
   "file_extension": ".py",
   "mimetype": "text/x-python",
   "name": "python",
   "nbconvert_exporter": "python",
   "pygments_lexer": "ipython3",
   "version": "3.8.5"
  }
 },
 "nbformat": 4,
 "nbformat_minor": 4
}
