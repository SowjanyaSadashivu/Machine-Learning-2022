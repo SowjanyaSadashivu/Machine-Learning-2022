{
 "cells": [
  {
   "cell_type": "code",
   "execution_count": 2,
   "metadata": {},
   "outputs": [],
   "source": [
    "import numpy as np\n",
    "import pandas as pd\n",
    "import math "
   ]
  },
  {
   "cell_type": "code",
   "execution_count": 7,
   "metadata": {},
   "outputs": [
    {
     "data": {
      "text/html": [
       "<div>\n",
       "<style scoped>\n",
       "    .dataframe tbody tr th:only-of-type {\n",
       "        vertical-align: middle;\n",
       "    }\n",
       "\n",
       "    .dataframe tbody tr th {\n",
       "        vertical-align: top;\n",
       "    }\n",
       "\n",
       "    .dataframe thead th {\n",
       "        text-align: right;\n",
       "    }\n",
       "</style>\n",
       "<table border=\"1\" class=\"dataframe\">\n",
       "  <thead>\n",
       "    <tr style=\"text-align: right;\">\n",
       "      <th></th>\n",
       "      <th>height</th>\n",
       "      <th>weight</th>\n",
       "      <th>age</th>\n",
       "      <th>gender</th>\n",
       "    </tr>\n",
       "  </thead>\n",
       "  <tbody>\n",
       "    <tr>\n",
       "      <th>0</th>\n",
       "      <td>1.572773</td>\n",
       "      <td>60.792841</td>\n",
       "      <td>29</td>\n",
       "      <td>W</td>\n",
       "    </tr>\n",
       "    <tr>\n",
       "      <th>1</th>\n",
       "      <td>1.530569</td>\n",
       "      <td>74.901995</td>\n",
       "      <td>28</td>\n",
       "      <td>W</td>\n",
       "    </tr>\n",
       "    <tr>\n",
       "      <th>2</th>\n",
       "      <td>1.595663</td>\n",
       "      <td>73.132507</td>\n",
       "      <td>27</td>\n",
       "      <td>W</td>\n",
       "    </tr>\n",
       "    <tr>\n",
       "      <th>3</th>\n",
       "      <td>1.500017</td>\n",
       "      <td>67.612650</td>\n",
       "      <td>36</td>\n",
       "      <td>W</td>\n",
       "    </tr>\n",
       "    <tr>\n",
       "      <th>4</th>\n",
       "      <td>1.605148</td>\n",
       "      <td>67.311912</td>\n",
       "      <td>26</td>\n",
       "      <td>W</td>\n",
       "    </tr>\n",
       "  </tbody>\n",
       "</table>\n",
       "</div>"
      ],
      "text/plain": [
       "     height     weight  age gender\n",
       "0  1.572773  60.792841   29      W\n",
       "1  1.530569  74.901995   28      W\n",
       "2  1.595663  73.132507   27      W\n",
       "3  1.500017  67.612650   36      W\n",
       "4  1.605148  67.311912   26      W"
      ]
     },
     "execution_count": 7,
     "metadata": {},
     "output_type": "execute_result"
    }
   ],
   "source": [
    "data = pd.read_excel('data.xlsx')\n",
    "data.head()"
   ]
  },
  {
   "cell_type": "code",
   "execution_count": 8,
   "metadata": {},
   "outputs": [
    {
     "data": {
      "text/html": [
       "<div>\n",
       "<style scoped>\n",
       "    .dataframe tbody tr th:only-of-type {\n",
       "        vertical-align: middle;\n",
       "    }\n",
       "\n",
       "    .dataframe tbody tr th {\n",
       "        vertical-align: top;\n",
       "    }\n",
       "\n",
       "    .dataframe thead th {\n",
       "        text-align: right;\n",
       "    }\n",
       "</style>\n",
       "<table border=\"1\" class=\"dataframe\">\n",
       "  <thead>\n",
       "    <tr style=\"text-align: right;\">\n",
       "      <th></th>\n",
       "      <th>height</th>\n",
       "      <th>weight</th>\n",
       "      <th>age</th>\n",
       "    </tr>\n",
       "  </thead>\n",
       "  <tbody>\n",
       "    <tr>\n",
       "      <th>0</th>\n",
       "      <td>1.796918</td>\n",
       "      <td>71.117461</td>\n",
       "      <td>31</td>\n",
       "    </tr>\n",
       "    <tr>\n",
       "      <th>1</th>\n",
       "      <td>1.610874</td>\n",
       "      <td>66.948896</td>\n",
       "      <td>30</td>\n",
       "    </tr>\n",
       "    <tr>\n",
       "      <th>2</th>\n",
       "      <td>1.783349</td>\n",
       "      <td>88.722991</td>\n",
       "      <td>30</td>\n",
       "    </tr>\n",
       "    <tr>\n",
       "      <th>3</th>\n",
       "      <td>1.511755</td>\n",
       "      <td>56.693180</td>\n",
       "      <td>27</td>\n",
       "    </tr>\n",
       "  </tbody>\n",
       "</table>\n",
       "</div>"
      ],
      "text/plain": [
       "     height     weight  age\n",
       "0  1.796918  71.117461   31\n",
       "1  1.610874  66.948896   30\n",
       "2  1.783349  88.722991   30\n",
       "3  1.511755  56.693180   27"
      ]
     },
     "execution_count": 8,
     "metadata": {},
     "output_type": "execute_result"
    }
   ],
   "source": [
    "test_data = pd.read_excel('knn_test_data.xlsx')\n",
    "test_data"
   ]
  },
  {
   "cell_type": "code",
   "execution_count": 9,
   "metadata": {},
   "outputs": [
    {
     "data": {
      "text/plain": [
       "array([[ 1.79691842, 71.11746115, 31.        ],\n",
       "       [ 1.61087382, 66.94889565, 30.        ],\n",
       "       [ 1.78334917, 88.72299146, 30.        ],\n",
       "       [ 1.51175478, 56.69317959, 27.        ]])"
      ]
     },
     "execution_count": 9,
     "metadata": {},
     "output_type": "execute_result"
    }
   ],
   "source": [
    "test_datas = test_data.to_numpy()\n",
    "test_datas"
   ]
  },
  {
   "cell_type": "code",
   "execution_count": 31,
   "metadata": {},
   "outputs": [],
   "source": [
    "def gaussian_(x, mean, std):\n",
    "    return 1 / (math.sqrt(std ** math.pi)) * np.exp(-std * np.power((x - mean), 2))"
   ]
  },
  {
   "cell_type": "code",
   "execution_count": 32,
   "metadata": {},
   "outputs": [],
   "source": [
    "def mean_(x, feature, data):\n",
    "    m_mean = np.mean(data.loc[data['gender']=='M'][feature].values)\n",
    "    m_std = np.std(data.loc[data['gender']=='M'][feature].values)\n",
    "    men = gaussian_(x, m_mean, m_std)\n",
    "    w_mean = np.mean(data.loc[data['gender']=='W'][feature].values)\n",
    "    w_std = np.std(data.loc[data['gender']=='W'][feature].values)\n",
    "    women = gaussian_(x, w_mean, w_std)\n",
    "    return men, women"
   ]
  },
  {
   "cell_type": "code",
   "execution_count": 33,
   "metadata": {},
   "outputs": [],
   "source": [
    "def nbc_(x, data):\n",
    "    men_h, women_h = mean_(x[0], 'height', data)\n",
    "    men_w, women_w = mean_(x[1], 'weight', data)\n",
    "    n_men, n_women = np.count_nonzero(data['gender'] == 'M'), np.count_nonzero(data['gender'] == 'W')\n",
    "    total = n_men + n_women\n",
    "    men_pri, women_pri = n_men/total, n_women/total\n",
    "    m_age, w_age = mean_(x[2], 'age', data)\n",
    "    p_man = men_h * men_w * m_age * men_pri\n",
    "    p_woman = women_h * women_w * w_age * women_pri\n",
    "    if p_man > p_woman:\n",
    "        return 'M'\n",
    "    else:\n",
    "        return 'W'"
   ]
  },
  {
   "cell_type": "code",
   "execution_count": 34,
   "metadata": {},
   "outputs": [],
   "source": [
    "def main():\n",
    "    for x in test_datas:\n",
    "        predict_ = nbc_(x, data)\n",
    "        print(f'Predictions : {predict_}')"
   ]
  },
  {
   "cell_type": "code",
   "execution_count": 35,
   "metadata": {},
   "outputs": [
    {
     "name": "stdout",
     "output_type": "stream",
     "text": [
      "Predictions : W\n",
      "Predictions : W\n",
      "Predictions : M\n",
      "Predictions : W\n"
     ]
    }
   ],
   "source": [
    "main()"
   ]
  },
  {
   "cell_type": "markdown",
   "metadata": {},
   "source": []
  }
 ],
 "metadata": {
  "kernelspec": {
   "display_name": "Python 3",
   "language": "python",
   "name": "python3"
  },
  "language_info": {
   "codemirror_mode": {
    "name": "ipython",
    "version": 3
   },
   "file_extension": ".py",
   "mimetype": "text/x-python",
   "name": "python",
   "nbconvert_exporter": "python",
   "pygments_lexer": "ipython3",
   "version": "3.8.5"
  }
 },
 "nbformat": 4,
 "nbformat_minor": 4
}
