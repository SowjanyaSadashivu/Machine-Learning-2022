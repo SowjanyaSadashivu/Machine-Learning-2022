{
 "cells": [
  {
   "cell_type": "code",
   "execution_count": null,
   "metadata": {},
   "outputs": [],
   "source": [
    "#implementing adaboost\n",
    "\n",
    "import numpy as np\n",
    "import pandas as pd\n",
    "import random\n",
    "import Node\n",
    "import DecisionTree"
   ]
  },
  {
   "cell_type": "code",
   "execution_count": null,
   "metadata": {},
   "outputs": [],
   "source": [
    "data = pd.read_excel('p2_1c.xlsx')"
   ]
  },
  {
   "cell_type": "code",
   "execution_count": null,
   "metadata": {},
   "outputs": [],
   "source": [
    "X = data.iloc[:,0:3]\n",
    "Y = data.iloc[:,3]\n",
    "x_train = X.iloc[0:90,:].values\n",
    "x_test = X.iloc[90:,:].values\n",
    "y_train = Y[0:90].values.reshape(-1,1)\n",
    "y_test = Y[90:].values.reshape(-1,1)"
   ]
  },
  {
   "cell_type": "code",
   "execution_count": null,
   "metadata": {},
   "outputs": [],
   "source": [
    "def accuracy(y_test, y_pred):\n",
    "    correct = 0\n",
    "    for i in range(len(y_test)):\n",
    "        if y_test[i] == y_pred[i]:\n",
    "            correct += 1\n",
    "    return correct/float(len(y_test)) * 100.0"
   ]
  },
  {
   "cell_type": "code",
   "execution_count": null,
   "metadata": {},
   "outputs": [],
   "source": [
    "boosting = [10, 25, 50]\n",
    "x_train_data =  data.iloc[0:90,:]\n",
    "for i in boosting:\n",
    "    weighted_data = x_train_data.copy()\n",
    "    weights = 1/len(x_train_data)\n",
    "    weighted_data['weights'] = weights    \n",
    "    list_classifiers = []\n",
    "    alpha_list = []\n",
    "    for loop in range(i):\n",
    "        classifier = DecisionTree(min_sample = 2, max_depth = 6)\n",
    "        classifier.fit(weighted_data)\n",
    "        train_labels = weighted_data.iloc[:,3].values\n",
    "        x_train_ = weighted_data.iloc[:,0:3]    \n",
    "        \n",
    "        error, y_pred_list = [], []\n",
    "        for j, s in x_train_.iterrows():\n",
    "            y_pred = classifier.predict(s)\n",
    "            y_pred_list.append(y_pred[0])\n",
    "            error.append(1 if y_pred != train_labels[j] else 0)\n",
    "        \n",
    "        w = weighted_data['weights'].values\n",
    "        epsilon = sum(w * error)/w.sum()\n",
    "        \n",
    "        if 0 < epsilon < 0.5:\n",
    "            list_classifiers.append(classifier)\n",
    "            alpha = 0.5 * np.log((1-epsilon)/epsilon)\n",
    "            alpha_list.append(alpha)\n",
    "            y = []\n",
    "            h = []\n",
    "            for l in train_label:\n",
    "                if l == 'M':\n",
    "                    y.append(1)\n",
    "                else:\n",
    "                    y.append(-1)\n",
    "            for p in y_pred_list:\n",
    "                if p == 'M':\n",
    "                    h.append(1)\n",
    "                else:\n",
    "                    h.append(-1)\n",
    "            weights = weights * np.exp(-alpha * np.asarray(y) * np.asarray(h))\n",
    "            weighted_data['weights'] = weights\n",
    "    \n",
    "    count = 0\n",
    "    for k,  s in x_test.iterrows():\n",
    "        classify = []\n",
    "        for m in list_classifiers:\n",
    "            classify.append(m.predict(s))\n",
    "        voting = []\n",
    "        for clss in classify:\n",
    "            if clss == 'M':\n",
    "                voting.append(1)\n",
    "            else:\n",
    "                voting.append(-1)\n",
    "        pred = np.sign(sum(alpha_list * np.asarray(voting)))\n",
    "        if pred == y_test[k]:\n",
    "            count+=1\n",
    "            \n",
    "    accuracy = count/len(y_test)\n",
    "    print(f'Boost: {i} has Accuracy: {accuracy * 100}')"
   ]
  }
 ],
 "metadata": {
  "kernelspec": {
   "display_name": "Python 3",
   "language": "python",
   "name": "python3"
  },
  "language_info": {
   "codemirror_mode": {
    "name": "ipython",
    "version": 3
   },
   "file_extension": ".py",
   "mimetype": "text/x-python",
   "name": "python",
   "nbconvert_exporter": "python",
   "pygments_lexer": "ipython3",
   "version": "3.8.5"
  }
 },
 "nbformat": 4,
 "nbformat_minor": 4
}
