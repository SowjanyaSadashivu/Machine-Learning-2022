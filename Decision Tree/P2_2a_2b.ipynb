{
 "cells": [
  {
   "cell_type": "code",
   "execution_count": 1,
   "metadata": {},
   "outputs": [],
   "source": [
    "import numpy as np\n",
    "import pandas as pd\n",
    "import random\n",
    "import Node\n",
    "import DecisionTree"
   ]
  },
  {
   "cell_type": "code",
   "execution_count": 2,
   "metadata": {},
   "outputs": [],
   "source": [
    "data = pd.read_excel('p2_1c.xlsx')"
   ]
  },
  {
   "cell_type": "code",
   "execution_count": 3,
   "metadata": {},
   "outputs": [],
   "source": [
    "X_train=data.iloc[0:90,:]\n",
    "X_test = data.iloc[90:,:]\n",
    "X = data.iloc[:,:-1]\n",
    "Y = data.iloc[:,-1]\n",
    "x_train = X.iloc[0:90,:].values\n",
    "x_test = X.iloc[90:,:].values\n",
    "y_train = Y[0:90].values.reshape(-1,1)\n",
    "y_test = Y[90:].values.reshape(-1,1)"
   ]
  },
  {
   "cell_type": "code",
   "execution_count": 6,
   "metadata": {},
   "outputs": [],
   "source": [
    "def accuracy(y_test, y_pred):\n",
    "    correct = 0\n",
    "    for i in range(len(y_test)):\n",
    "        if y_test[i] == y_pred[i]:\n",
    "            correct += 1\n",
    "    return correct/float(len(y_test)) * 100.0"
   ]
  },
  {
   "cell_type": "code",
   "execution_count": 8,
   "metadata": {},
   "outputs": [],
   "source": [
    "bagging_no = [10, 50, 100]\n",
    "def bagging(no_of_bags):\n",
    "    list_of_data = []\n",
    "    for i in range(no_of_bags):\n",
    "        index = np.random.randint(0,90,90)\n",
    "        list_of_data.append(X_train.iloc[index])\n",
    "    list_of_classifier = []\n",
    "    for data in list_of_data:\n",
    "        x_train = data.iloc[:,0:3].values\n",
    "        y_train = data.iloc[:,3].values.reshape(-1,1)\n",
    "        classifier = DecisionTree(min_sample = 2, max_depth = 6)\n",
    "        classifier.fit(x_train, y_train)\n",
    "        list_of_classifier.append(classifier)\n",
    "    counts = 0\n",
    "    for d in range(len(x_test)):\n",
    "        s = x_test[d]\n",
    "        votes = []\n",
    "        for m in list_of_classifier:\n",
    "            vote = m.predict(s)\n",
    "            votes.append(vote)\n",
    "        pred_w = 0\n",
    "        pred_m = 0\n",
    "        for j in range(len(votes)):\n",
    "            if votes[j] == 'M':\n",
    "                pred_m += 1\n",
    "            else:\n",
    "                pred_w += 1\n",
    "        if pred_w > pred_m:\n",
    "            y_pred = 'W'\n",
    "        else:\n",
    "            y_pred = 'M'\n",
    "        if y_pred == y_test[d]:\n",
    "            counts += 1\n",
    "    accuracy = counts / len(y_test)\n",
    "    return accuracy"
   ]
  },
  {
   "cell_type": "code",
   "execution_count": 9,
   "metadata": {},
   "outputs": [
    {
     "name": "stdout",
     "output_type": "stream",
     "text": [
      "Bagging : 10 has Accuracy: 0.8333333333333334\n",
      "Bagging : 50 has Accuracy: 0.8333333333333334\n",
      "Bagging : 100 has Accuracy: 0.8333333333333334\n"
     ]
    }
   ],
   "source": [
    "for bag in bagging_no:\n",
    "    accuracy = bagging(bag)\n",
    "    print(f'Bagging : {bag} has Accuracy: {accuracy}')"
   ]
  }
 ],
 "metadata": {
  "kernelspec": {
   "display_name": "Python 3",
   "language": "python",
   "name": "python3"
  },
  "language_info": {
   "codemirror_mode": {
    "name": "ipython",
    "version": 3
   },
   "file_extension": ".py",
   "mimetype": "text/x-python",
   "name": "python",
   "nbconvert_exporter": "python",
   "pygments_lexer": "ipython3",
   "version": "3.8.5"
  }
 },
 "nbformat": 4,
 "nbformat_minor": 4
}
